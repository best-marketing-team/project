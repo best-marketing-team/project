{
 "cells": [
  {
   "cell_type": "code",
   "execution_count": 1,
   "metadata": {},
   "outputs": [],
   "source": [
    "import pandas as pd"
   ]
  },
  {
   "cell_type": "code",
   "execution_count": 2,
   "metadata": {},
   "outputs": [],
   "source": [
    "df = pd.read_excel('./final_review.xlsx')"
   ]
  },
  {
   "cell_type": "code",
   "execution_count": 3,
   "metadata": {},
   "outputs": [
    {
     "data": {
      "text/html": [
       "<div>\n",
       "<style scoped>\n",
       "    .dataframe tbody tr th:only-of-type {\n",
       "        vertical-align: middle;\n",
       "    }\n",
       "\n",
       "    .dataframe tbody tr th {\n",
       "        vertical-align: top;\n",
       "    }\n",
       "\n",
       "    .dataframe thead th {\n",
       "        text-align: right;\n",
       "    }\n",
       "</style>\n",
       "<table border=\"1\" class=\"dataframe\">\n",
       "  <thead>\n",
       "    <tr style=\"text-align: right;\">\n",
       "      <th></th>\n",
       "      <th>튼튼닷컴 밀크씨슬 [6개월분], 1000mg, 1개, 180캡슐 26,900원</th>\n",
       "      <th>지앤씨 밀크시슬, 60정, 1개</th>\n",
       "      <th>종근당건강 헬씨칸 밀크씨슬 영양제, 30정, 2개 23,270원</th>\n",
       "      <th>보뚜 간에좋은 밀크씨슬 프리미엄, 150정, 1개 29,900</th>\n",
       "      <th>Now Foods 실리마린 밀크 시슬 추출물 300mg 베지 캡슐, 1개</th>\n",
       "      <th>뉴트리데이 프리미엄</th>\n",
       "      <th>GNM자연의품격 건강한 간 밀크씨슬, 132정, 1개</th>\n",
       "      <th>GNM자연의품격 건강한 간 밀크씨슬, 30정, 6개</th>\n",
       "      <th>Swanson 밀크 시슬 500mg 캡슐, 100개입, 1개</th>\n",
       "      <th>한미헬스케어 간에 좋은 밀크씨슬 골드, 90정, 2개</th>\n",
       "    </tr>\n",
       "  </thead>\n",
       "  <tbody>\n",
       "    <tr>\n",
       "      <td>0</td>\n",
       "      <td>리베카</td>\n",
       "      <td>겨울온기</td>\n",
       "      <td>서*아</td>\n",
       "      <td>홍*환</td>\n",
       "      <td>쿸쿸쿸</td>\n",
       "      <td>실천의힘</td>\n",
       "      <td>UNIUNI</td>\n",
       "      <td>칠치링</td>\n",
       "      <td>배*웅</td>\n",
       "      <td>리뷰홀릭</td>\n",
       "    </tr>\n",
       "    <tr>\n",
       "      <td>1</td>\n",
       "      <td>제주남</td>\n",
       "      <td>하*희</td>\n",
       "      <td>집노예도비</td>\n",
       "      <td>다없대</td>\n",
       "      <td>전천도</td>\n",
       "      <td>엄*주</td>\n",
       "      <td>또또뿌니율</td>\n",
       "      <td>또또뿌니율</td>\n",
       "      <td>이*범</td>\n",
       "      <td>웅장해진다</td>\n",
       "    </tr>\n",
       "    <tr>\n",
       "      <td>2</td>\n",
       "      <td>나비아씨</td>\n",
       "      <td>솔직냥집사</td>\n",
       "      <td>또또뿌니율</td>\n",
       "      <td>esmooom</td>\n",
       "      <td>오*진</td>\n",
       "      <td>웅장해진다</td>\n",
       "      <td>이이이삼</td>\n",
       "      <td>오*근</td>\n",
       "      <td>웅장해진다</td>\n",
       "      <td>김*래</td>\n",
       "    </tr>\n",
       "    <tr>\n",
       "      <td>3</td>\n",
       "      <td>박*하</td>\n",
       "      <td>윤*우</td>\n",
       "      <td>좋은날들</td>\n",
       "      <td>노란잠수함</td>\n",
       "      <td>까페타임</td>\n",
       "      <td>지앤지앤</td>\n",
       "      <td>박*숙</td>\n",
       "      <td>혼밥녀</td>\n",
       "      <td>까페타임</td>\n",
       "      <td>한보리</td>\n",
       "    </tr>\n",
       "    <tr>\n",
       "      <td>4</td>\n",
       "      <td>유*한</td>\n",
       "      <td>이*인</td>\n",
       "      <td>좋은날들</td>\n",
       "      <td>듀륏cherry</td>\n",
       "      <td>박*대</td>\n",
       "      <td>보석마미</td>\n",
       "      <td>이*영</td>\n",
       "      <td>혼밥녀</td>\n",
       "      <td>웅컁키쿄쿡</td>\n",
       "      <td>이*현</td>\n",
       "    </tr>\n",
       "  </tbody>\n",
       "</table>\n",
       "</div>"
      ],
      "text/plain": [
       "  튼튼닷컴 밀크씨슬 [6개월분], 1000mg, 1개, 180캡슐 26,900원 지앤씨 밀크시슬, 60정, 1개   \\\n",
       "0                                        리베카               겨울온기    \n",
       "1                                        제주남                하*희    \n",
       "2                                       나비아씨              솔직냥집사    \n",
       "3                                        박*하                윤*우    \n",
       "4                                        유*한                이*인    \n",
       "\n",
       "  종근당건강 헬씨칸 밀크씨슬 영양제, 30정, 2개 23,270원 보뚜 간에좋은 밀크씨슬 프리미엄, 150정, 1개 29,900  \\\n",
       "0                                서*아                                홍*환    \n",
       "1                              집노예도비                                다없대    \n",
       "2                              또또뿌니율                            esmooom    \n",
       "3                               좋은날들                              노란잠수함    \n",
       "4                               좋은날들                           듀륏cherry    \n",
       "\n",
       "  Now Foods 실리마린 밀크 시슬 추출물 300mg 베지 캡슐, 1개 뉴트리데이 프리미엄  \\\n",
       "0                                     쿸쿸쿸       실천의힘    \n",
       "1                                     전천도        엄*주    \n",
       "2                                     오*진      웅장해진다    \n",
       "3                                    까페타임       지앤지앤    \n",
       "4                                     박*대       보석마미    \n",
       "\n",
       "  GNM자연의품격 건강한 간 밀크씨슬, 132정, 1개 GNM자연의품격 건강한 간 밀크씨슬, 30정, 6개  \\\n",
       "0                       UNIUNI                          칠치링    \n",
       "1                        또또뿌니율                        또또뿌니율    \n",
       "2                         이이이삼                          오*근    \n",
       "3                          박*숙                          혼밥녀    \n",
       "4                          이*영                          혼밥녀    \n",
       "\n",
       "  Swanson 밀크 시슬 500mg 캡슐, 100개입, 1개 한미헬스케어 간에 좋은 밀크씨슬 골드, 90정, 2개  \n",
       "0                              배*웅                          리뷰홀릭   \n",
       "1                              이*범                         웅장해진다   \n",
       "2                            웅장해진다                           김*래   \n",
       "3                             까페타임                           한보리   \n",
       "4                            웅컁키쿄쿡                           이*현   "
      ]
     },
     "execution_count": 3,
     "metadata": {},
     "output_type": "execute_result"
    }
   ],
   "source": [
    "df.head()"
   ]
  },
  {
   "cell_type": "code",
   "execution_count": 4,
   "metadata": {},
   "outputs": [
    {
     "data": {
      "text/plain": [
       "Index(['튼튼닷컴 밀크씨슬 [6개월분], 1000mg, 1개, 180캡슐 26,900원', '지앤씨 밀크시슬, 60정, 1개 ',\n",
       "       '종근당건강 헬씨칸 밀크씨슬 영양제, 30정, 2개 23,270원',\n",
       "       '보뚜 간에좋은 밀크씨슬 프리미엄, 150정, 1개 29,900',\n",
       "       'Now Foods 실리마린 밀크 시슬 추출물 300mg 베지 캡슐, 1개', '뉴트리데이 프리미엄',\n",
       "       'GNM자연의품격 건강한 간 밀크씨슬, 132정, 1개', 'GNM자연의품격 건강한 간 밀크씨슬, 30정, 6개',\n",
       "       'Swanson 밀크 시슬 500mg 캡슐, 100개입, 1개', '한미헬스케어 간에 좋은 밀크씨슬 골드, 90정, 2개'],\n",
       "      dtype='object')"
      ]
     },
     "execution_count": 4,
     "metadata": {},
     "output_type": "execute_result"
    }
   ],
   "source": [
    "df.columns"
   ]
  },
  {
   "cell_type": "code",
   "execution_count": 5,
   "metadata": {},
   "outputs": [
    {
     "data": {
      "text/plain": [
       "10"
      ]
     },
     "execution_count": 5,
     "metadata": {},
     "output_type": "execute_result"
    }
   ],
   "source": [
    "len(df.columns)"
   ]
  },
  {
   "cell_type": "code",
   "execution_count": 6,
   "metadata": {},
   "outputs": [],
   "source": [
    "name_label = df.columns"
   ]
  },
  {
   "cell_type": "code",
   "execution_count": 7,
   "metadata": {},
   "outputs": [
    {
     "data": {
      "text/plain": [
       "pandas.core.indexes.base.Index"
      ]
     },
     "execution_count": 7,
     "metadata": {},
     "output_type": "execute_result"
    }
   ],
   "source": [
    "type(name_label)"
   ]
  },
  {
   "cell_type": "code",
   "execution_count": 8,
   "metadata": {},
   "outputs": [],
   "source": [
    "name_label=list(name_label)"
   ]
  },
  {
   "cell_type": "code",
   "execution_count": 9,
   "metadata": {},
   "outputs": [
    {
     "data": {
      "text/plain": [
       "list"
      ]
     },
     "execution_count": 9,
     "metadata": {},
     "output_type": "execute_result"
    }
   ],
   "source": [
    "type(name_label)"
   ]
  },
  {
   "cell_type": "code",
   "execution_count": 10,
   "metadata": {},
   "outputs": [],
   "source": [
    "name_label = pd.Series(name_label)"
   ]
  },
  {
   "cell_type": "code",
   "execution_count": 11,
   "metadata": {},
   "outputs": [
    {
     "data": {
      "text/plain": [
       "pandas.core.series.Series"
      ]
     },
     "execution_count": 11,
     "metadata": {},
     "output_type": "execute_result"
    }
   ],
   "source": [
    "type(name_label)"
   ]
  },
  {
   "cell_type": "code",
   "execution_count": 12,
   "metadata": {},
   "outputs": [],
   "source": [
    "name_label.index = range(10)"
   ]
  },
  {
   "cell_type": "code",
   "execution_count": 13,
   "metadata": {},
   "outputs": [
    {
     "data": {
      "text/plain": [
       "0    튼튼닷컴 밀크씨슬 [6개월분], 1000mg, 1개, 180캡슐 26,900원\n",
       "1                             지앤씨 밀크시슬, 60정, 1개 \n",
       "2            종근당건강 헬씨칸 밀크씨슬 영양제, 30정, 2개 23,270원\n",
       "3             보뚜 간에좋은 밀크씨슬 프리미엄, 150정, 1개 29,900\n",
       "4       Now Foods 실리마린 밀크 시슬 추출물 300mg 베지 캡슐, 1개\n",
       "5                                     뉴트리데이 프리미엄\n",
       "6                  GNM자연의품격 건강한 간 밀크씨슬, 132정, 1개\n",
       "7                   GNM자연의품격 건강한 간 밀크씨슬, 30정, 6개\n",
       "8              Swanson 밀크 시슬 500mg 캡슐, 100개입, 1개\n",
       "9                  한미헬스케어 간에 좋은 밀크씨슬 골드, 90정, 2개\n",
       "dtype: object"
      ]
     },
     "execution_count": 13,
     "metadata": {},
     "output_type": "execute_result"
    }
   ],
   "source": [
    "name_label"
   ]
  },
  {
   "cell_type": "code",
   "execution_count": 14,
   "metadata": {},
   "outputs": [
    {
     "data": {
      "text/html": [
       "<div>\n",
       "<style scoped>\n",
       "    .dataframe tbody tr th:only-of-type {\n",
       "        vertical-align: middle;\n",
       "    }\n",
       "\n",
       "    .dataframe tbody tr th {\n",
       "        vertical-align: top;\n",
       "    }\n",
       "\n",
       "    .dataframe thead th {\n",
       "        text-align: right;\n",
       "    }\n",
       "</style>\n",
       "<table border=\"1\" class=\"dataframe\">\n",
       "  <thead>\n",
       "    <tr style=\"text-align: right;\">\n",
       "      <th></th>\n",
       "      <th>튼튼닷컴 밀크씨슬 [6개월분], 1000mg, 1개, 180캡슐 26,900원</th>\n",
       "      <th>지앤씨 밀크시슬, 60정, 1개</th>\n",
       "      <th>종근당건강 헬씨칸 밀크씨슬 영양제, 30정, 2개 23,270원</th>\n",
       "      <th>보뚜 간에좋은 밀크씨슬 프리미엄, 150정, 1개 29,900</th>\n",
       "      <th>Now Foods 실리마린 밀크 시슬 추출물 300mg 베지 캡슐, 1개</th>\n",
       "      <th>뉴트리데이 프리미엄</th>\n",
       "      <th>GNM자연의품격 건강한 간 밀크씨슬, 132정, 1개</th>\n",
       "      <th>GNM자연의품격 건강한 간 밀크씨슬, 30정, 6개</th>\n",
       "      <th>Swanson 밀크 시슬 500mg 캡슐, 100개입, 1개</th>\n",
       "      <th>한미헬스케어 간에 좋은 밀크씨슬 골드, 90정, 2개</th>\n",
       "    </tr>\n",
       "  </thead>\n",
       "  <tbody>\n",
       "    <tr>\n",
       "      <td>0</td>\n",
       "      <td>리베카</td>\n",
       "      <td>겨울온기</td>\n",
       "      <td>서*아</td>\n",
       "      <td>홍*환</td>\n",
       "      <td>쿸쿸쿸</td>\n",
       "      <td>실천의힘</td>\n",
       "      <td>UNIUNI</td>\n",
       "      <td>칠치링</td>\n",
       "      <td>배*웅</td>\n",
       "      <td>리뷰홀릭</td>\n",
       "    </tr>\n",
       "    <tr>\n",
       "      <td>1</td>\n",
       "      <td>제주남</td>\n",
       "      <td>하*희</td>\n",
       "      <td>집노예도비</td>\n",
       "      <td>다없대</td>\n",
       "      <td>전천도</td>\n",
       "      <td>엄*주</td>\n",
       "      <td>또또뿌니율</td>\n",
       "      <td>또또뿌니율</td>\n",
       "      <td>이*범</td>\n",
       "      <td>웅장해진다</td>\n",
       "    </tr>\n",
       "    <tr>\n",
       "      <td>2</td>\n",
       "      <td>나비아씨</td>\n",
       "      <td>솔직냥집사</td>\n",
       "      <td>또또뿌니율</td>\n",
       "      <td>esmooom</td>\n",
       "      <td>오*진</td>\n",
       "      <td>웅장해진다</td>\n",
       "      <td>이이이삼</td>\n",
       "      <td>오*근</td>\n",
       "      <td>웅장해진다</td>\n",
       "      <td>김*래</td>\n",
       "    </tr>\n",
       "    <tr>\n",
       "      <td>3</td>\n",
       "      <td>박*하</td>\n",
       "      <td>윤*우</td>\n",
       "      <td>좋은날들</td>\n",
       "      <td>노란잠수함</td>\n",
       "      <td>까페타임</td>\n",
       "      <td>지앤지앤</td>\n",
       "      <td>박*숙</td>\n",
       "      <td>혼밥녀</td>\n",
       "      <td>까페타임</td>\n",
       "      <td>한보리</td>\n",
       "    </tr>\n",
       "    <tr>\n",
       "      <td>4</td>\n",
       "      <td>유*한</td>\n",
       "      <td>이*인</td>\n",
       "      <td>좋은날들</td>\n",
       "      <td>듀륏cherry</td>\n",
       "      <td>박*대</td>\n",
       "      <td>보석마미</td>\n",
       "      <td>이*영</td>\n",
       "      <td>혼밥녀</td>\n",
       "      <td>웅컁키쿄쿡</td>\n",
       "      <td>이*현</td>\n",
       "    </tr>\n",
       "    <tr>\n",
       "      <td>...</td>\n",
       "      <td>...</td>\n",
       "      <td>...</td>\n",
       "      <td>...</td>\n",
       "      <td>...</td>\n",
       "      <td>...</td>\n",
       "      <td>...</td>\n",
       "      <td>...</td>\n",
       "      <td>...</td>\n",
       "      <td>...</td>\n",
       "      <td>...</td>\n",
       "    </tr>\n",
       "    <tr>\n",
       "      <td>995</td>\n",
       "      <td>NaN</td>\n",
       "      <td>NaN</td>\n",
       "      <td>최*람</td>\n",
       "      <td>최*호</td>\n",
       "      <td>김*애</td>\n",
       "      <td>jj7577</td>\n",
       "      <td>NaN</td>\n",
       "      <td>권*경</td>\n",
       "      <td>최*한</td>\n",
       "      <td>정*희</td>\n",
       "    </tr>\n",
       "    <tr>\n",
       "      <td>996</td>\n",
       "      <td>NaN</td>\n",
       "      <td>NaN</td>\n",
       "      <td>듀듐칫</td>\n",
       "      <td>한*섭</td>\n",
       "      <td>김*목</td>\n",
       "      <td>박*근</td>\n",
       "      <td>NaN</td>\n",
       "      <td>박*승</td>\n",
       "      <td>김*태</td>\n",
       "      <td>이*순</td>\n",
       "    </tr>\n",
       "    <tr>\n",
       "      <td>997</td>\n",
       "      <td>NaN</td>\n",
       "      <td>NaN</td>\n",
       "      <td>Yoonimom</td>\n",
       "      <td>오*준</td>\n",
       "      <td>황*원</td>\n",
       "      <td>정*공</td>\n",
       "      <td>NaN</td>\n",
       "      <td>배미자</td>\n",
       "      <td>최*우</td>\n",
       "      <td>김*영</td>\n",
       "    </tr>\n",
       "    <tr>\n",
       "      <td>998</td>\n",
       "      <td>NaN</td>\n",
       "      <td>NaN</td>\n",
       "      <td>송*진</td>\n",
       "      <td>유*근</td>\n",
       "      <td>심*준</td>\n",
       "      <td>신*철</td>\n",
       "      <td>NaN</td>\n",
       "      <td>정*미</td>\n",
       "      <td>김*숙</td>\n",
       "      <td>정*영</td>\n",
       "    </tr>\n",
       "    <tr>\n",
       "      <td>999</td>\n",
       "      <td>NaN</td>\n",
       "      <td>NaN</td>\n",
       "      <td>송*자</td>\n",
       "      <td>진*현</td>\n",
       "      <td>이*주</td>\n",
       "      <td>산골다래</td>\n",
       "      <td>NaN</td>\n",
       "      <td>박*혁</td>\n",
       "      <td>김*주</td>\n",
       "      <td>오*균</td>\n",
       "    </tr>\n",
       "  </tbody>\n",
       "</table>\n",
       "<p>1000 rows × 10 columns</p>\n",
       "</div>"
      ],
      "text/plain": [
       "    튼튼닷컴 밀크씨슬 [6개월분], 1000mg, 1개, 180캡슐 26,900원 지앤씨 밀크시슬, 60정, 1개   \\\n",
       "0                                          리베카               겨울온기    \n",
       "1                                          제주남                하*희    \n",
       "2                                         나비아씨              솔직냥집사    \n",
       "3                                          박*하                윤*우    \n",
       "4                                          유*한                이*인    \n",
       "..                                          ...                ...   \n",
       "995                                         NaN                NaN   \n",
       "996                                         NaN                NaN   \n",
       "997                                         NaN                NaN   \n",
       "998                                         NaN                NaN   \n",
       "999                                         NaN                NaN   \n",
       "\n",
       "    종근당건강 헬씨칸 밀크씨슬 영양제, 30정, 2개 23,270원 보뚜 간에좋은 밀크씨슬 프리미엄, 150정, 1개 29,900  \\\n",
       "0                                  서*아                                홍*환    \n",
       "1                                집노예도비                                다없대    \n",
       "2                                또또뿌니율                            esmooom    \n",
       "3                                 좋은날들                              노란잠수함    \n",
       "4                                 좋은날들                           듀륏cherry    \n",
       "..                                  ...                                ...   \n",
       "995                                최*람                                최*호    \n",
       "996                                듀듐칫                                한*섭    \n",
       "997                           Yoonimom                                오*준    \n",
       "998                                송*진                                유*근    \n",
       "999                                송*자                                진*현    \n",
       "\n",
       "    Now Foods 실리마린 밀크 시슬 추출물 300mg 베지 캡슐, 1개 뉴트리데이 프리미엄  \\\n",
       "0                                       쿸쿸쿸       실천의힘    \n",
       "1                                       전천도        엄*주    \n",
       "2                                       오*진      웅장해진다    \n",
       "3                                      까페타임       지앤지앤    \n",
       "4                                       박*대       보석마미    \n",
       "..                                       ...        ...   \n",
       "995                                     김*애     jj7577    \n",
       "996                                     김*목        박*근    \n",
       "997                                     황*원        정*공    \n",
       "998                                     심*준        신*철    \n",
       "999                                     이*주       산골다래    \n",
       "\n",
       "    GNM자연의품격 건강한 간 밀크씨슬, 132정, 1개 GNM자연의품격 건강한 간 밀크씨슬, 30정, 6개  \\\n",
       "0                         UNIUNI                          칠치링    \n",
       "1                          또또뿌니율                        또또뿌니율    \n",
       "2                           이이이삼                          오*근    \n",
       "3                            박*숙                          혼밥녀    \n",
       "4                            이*영                          혼밥녀    \n",
       "..                            ...                          ...   \n",
       "995                           NaN                         권*경    \n",
       "996                           NaN                         박*승    \n",
       "997                           NaN                         배미자    \n",
       "998                           NaN                         정*미    \n",
       "999                           NaN                         박*혁    \n",
       "\n",
       "    Swanson 밀크 시슬 500mg 캡슐, 100개입, 1개 한미헬스케어 간에 좋은 밀크씨슬 골드, 90정, 2개  \n",
       "0                                배*웅                          리뷰홀릭   \n",
       "1                                이*범                         웅장해진다   \n",
       "2                              웅장해진다                           김*래   \n",
       "3                               까페타임                           한보리   \n",
       "4                              웅컁키쿄쿡                           이*현   \n",
       "..                                ...                           ...  \n",
       "995                              최*한                           정*희   \n",
       "996                              김*태                           이*순   \n",
       "997                              최*우                           김*영   \n",
       "998                              김*숙                           정*영   \n",
       "999                              김*주                           오*균   \n",
       "\n",
       "[1000 rows x 10 columns]"
      ]
     },
     "execution_count": 14,
     "metadata": {},
     "output_type": "execute_result"
    }
   ],
   "source": [
    "df"
   ]
  },
  {
   "cell_type": "code",
   "execution_count": 15,
   "metadata": {},
   "outputs": [],
   "source": [
    "a_list = []\n",
    "for i in range(10):\n",
    "    a_list.append('code'+str(i))"
   ]
  },
  {
   "cell_type": "code",
   "execution_count": 16,
   "metadata": {},
   "outputs": [
    {
     "data": {
      "text/plain": [
       "['code0',\n",
       " 'code1',\n",
       " 'code2',\n",
       " 'code3',\n",
       " 'code4',\n",
       " 'code5',\n",
       " 'code6',\n",
       " 'code7',\n",
       " 'code8',\n",
       " 'code9']"
      ]
     },
     "execution_count": 16,
     "metadata": {},
     "output_type": "execute_result"
    }
   ],
   "source": [
    "a_list"
   ]
  },
  {
   "cell_type": "code",
   "execution_count": 17,
   "metadata": {},
   "outputs": [],
   "source": [
    "name_label.index = a_list"
   ]
  },
  {
   "cell_type": "code",
   "execution_count": 18,
   "metadata": {},
   "outputs": [
    {
     "data": {
      "text/plain": [
       "code0    튼튼닷컴 밀크씨슬 [6개월분], 1000mg, 1개, 180캡슐 26,900원\n",
       "code1                             지앤씨 밀크시슬, 60정, 1개 \n",
       "code2            종근당건강 헬씨칸 밀크씨슬 영양제, 30정, 2개 23,270원\n",
       "code3             보뚜 간에좋은 밀크씨슬 프리미엄, 150정, 1개 29,900\n",
       "code4       Now Foods 실리마린 밀크 시슬 추출물 300mg 베지 캡슐, 1개\n",
       "code5                                     뉴트리데이 프리미엄\n",
       "code6                  GNM자연의품격 건강한 간 밀크씨슬, 132정, 1개\n",
       "code7                   GNM자연의품격 건강한 간 밀크씨슬, 30정, 6개\n",
       "code8              Swanson 밀크 시슬 500mg 캡슐, 100개입, 1개\n",
       "code9                  한미헬스케어 간에 좋은 밀크씨슬 골드, 90정, 2개\n",
       "dtype: object"
      ]
     },
     "execution_count": 18,
     "metadata": {},
     "output_type": "execute_result"
    }
   ],
   "source": [
    "name_label"
   ]
  },
  {
   "cell_type": "code",
   "execution_count": 19,
   "metadata": {},
   "outputs": [],
   "source": [
    "df.columns = a_list"
   ]
  },
  {
   "cell_type": "code",
   "execution_count": 20,
   "metadata": {},
   "outputs": [
    {
     "data": {
      "text/html": [
       "<div>\n",
       "<style scoped>\n",
       "    .dataframe tbody tr th:only-of-type {\n",
       "        vertical-align: middle;\n",
       "    }\n",
       "\n",
       "    .dataframe tbody tr th {\n",
       "        vertical-align: top;\n",
       "    }\n",
       "\n",
       "    .dataframe thead th {\n",
       "        text-align: right;\n",
       "    }\n",
       "</style>\n",
       "<table border=\"1\" class=\"dataframe\">\n",
       "  <thead>\n",
       "    <tr style=\"text-align: right;\">\n",
       "      <th></th>\n",
       "      <th>code0</th>\n",
       "      <th>code1</th>\n",
       "      <th>code2</th>\n",
       "      <th>code3</th>\n",
       "      <th>code4</th>\n",
       "      <th>code5</th>\n",
       "      <th>code6</th>\n",
       "      <th>code7</th>\n",
       "      <th>code8</th>\n",
       "      <th>code9</th>\n",
       "    </tr>\n",
       "  </thead>\n",
       "  <tbody>\n",
       "    <tr>\n",
       "      <td>0</td>\n",
       "      <td>리베카</td>\n",
       "      <td>겨울온기</td>\n",
       "      <td>서*아</td>\n",
       "      <td>홍*환</td>\n",
       "      <td>쿸쿸쿸</td>\n",
       "      <td>실천의힘</td>\n",
       "      <td>UNIUNI</td>\n",
       "      <td>칠치링</td>\n",
       "      <td>배*웅</td>\n",
       "      <td>리뷰홀릭</td>\n",
       "    </tr>\n",
       "    <tr>\n",
       "      <td>1</td>\n",
       "      <td>제주남</td>\n",
       "      <td>하*희</td>\n",
       "      <td>집노예도비</td>\n",
       "      <td>다없대</td>\n",
       "      <td>전천도</td>\n",
       "      <td>엄*주</td>\n",
       "      <td>또또뿌니율</td>\n",
       "      <td>또또뿌니율</td>\n",
       "      <td>이*범</td>\n",
       "      <td>웅장해진다</td>\n",
       "    </tr>\n",
       "    <tr>\n",
       "      <td>2</td>\n",
       "      <td>나비아씨</td>\n",
       "      <td>솔직냥집사</td>\n",
       "      <td>또또뿌니율</td>\n",
       "      <td>esmooom</td>\n",
       "      <td>오*진</td>\n",
       "      <td>웅장해진다</td>\n",
       "      <td>이이이삼</td>\n",
       "      <td>오*근</td>\n",
       "      <td>웅장해진다</td>\n",
       "      <td>김*래</td>\n",
       "    </tr>\n",
       "    <tr>\n",
       "      <td>3</td>\n",
       "      <td>박*하</td>\n",
       "      <td>윤*우</td>\n",
       "      <td>좋은날들</td>\n",
       "      <td>노란잠수함</td>\n",
       "      <td>까페타임</td>\n",
       "      <td>지앤지앤</td>\n",
       "      <td>박*숙</td>\n",
       "      <td>혼밥녀</td>\n",
       "      <td>까페타임</td>\n",
       "      <td>한보리</td>\n",
       "    </tr>\n",
       "    <tr>\n",
       "      <td>4</td>\n",
       "      <td>유*한</td>\n",
       "      <td>이*인</td>\n",
       "      <td>좋은날들</td>\n",
       "      <td>듀륏cherry</td>\n",
       "      <td>박*대</td>\n",
       "      <td>보석마미</td>\n",
       "      <td>이*영</td>\n",
       "      <td>혼밥녀</td>\n",
       "      <td>웅컁키쿄쿡</td>\n",
       "      <td>이*현</td>\n",
       "    </tr>\n",
       "    <tr>\n",
       "      <td>...</td>\n",
       "      <td>...</td>\n",
       "      <td>...</td>\n",
       "      <td>...</td>\n",
       "      <td>...</td>\n",
       "      <td>...</td>\n",
       "      <td>...</td>\n",
       "      <td>...</td>\n",
       "      <td>...</td>\n",
       "      <td>...</td>\n",
       "      <td>...</td>\n",
       "    </tr>\n",
       "    <tr>\n",
       "      <td>995</td>\n",
       "      <td>NaN</td>\n",
       "      <td>NaN</td>\n",
       "      <td>최*람</td>\n",
       "      <td>최*호</td>\n",
       "      <td>김*애</td>\n",
       "      <td>jj7577</td>\n",
       "      <td>NaN</td>\n",
       "      <td>권*경</td>\n",
       "      <td>최*한</td>\n",
       "      <td>정*희</td>\n",
       "    </tr>\n",
       "    <tr>\n",
       "      <td>996</td>\n",
       "      <td>NaN</td>\n",
       "      <td>NaN</td>\n",
       "      <td>듀듐칫</td>\n",
       "      <td>한*섭</td>\n",
       "      <td>김*목</td>\n",
       "      <td>박*근</td>\n",
       "      <td>NaN</td>\n",
       "      <td>박*승</td>\n",
       "      <td>김*태</td>\n",
       "      <td>이*순</td>\n",
       "    </tr>\n",
       "    <tr>\n",
       "      <td>997</td>\n",
       "      <td>NaN</td>\n",
       "      <td>NaN</td>\n",
       "      <td>Yoonimom</td>\n",
       "      <td>오*준</td>\n",
       "      <td>황*원</td>\n",
       "      <td>정*공</td>\n",
       "      <td>NaN</td>\n",
       "      <td>배미자</td>\n",
       "      <td>최*우</td>\n",
       "      <td>김*영</td>\n",
       "    </tr>\n",
       "    <tr>\n",
       "      <td>998</td>\n",
       "      <td>NaN</td>\n",
       "      <td>NaN</td>\n",
       "      <td>송*진</td>\n",
       "      <td>유*근</td>\n",
       "      <td>심*준</td>\n",
       "      <td>신*철</td>\n",
       "      <td>NaN</td>\n",
       "      <td>정*미</td>\n",
       "      <td>김*숙</td>\n",
       "      <td>정*영</td>\n",
       "    </tr>\n",
       "    <tr>\n",
       "      <td>999</td>\n",
       "      <td>NaN</td>\n",
       "      <td>NaN</td>\n",
       "      <td>송*자</td>\n",
       "      <td>진*현</td>\n",
       "      <td>이*주</td>\n",
       "      <td>산골다래</td>\n",
       "      <td>NaN</td>\n",
       "      <td>박*혁</td>\n",
       "      <td>김*주</td>\n",
       "      <td>오*균</td>\n",
       "    </tr>\n",
       "  </tbody>\n",
       "</table>\n",
       "<p>1000 rows × 10 columns</p>\n",
       "</div>"
      ],
      "text/plain": [
       "     code0   code1      code2      code3  code4    code5    code6   code7  \\\n",
       "0     리베카    겨울온기        서*아        홍*환    쿸쿸쿸     실천의힘   UNIUNI     칠치링    \n",
       "1     제주남     하*희      집노예도비        다없대    전천도      엄*주    또또뿌니율   또또뿌니율    \n",
       "2    나비아씨   솔직냥집사      또또뿌니율    esmooom    오*진    웅장해진다     이이이삼     오*근    \n",
       "3     박*하     윤*우       좋은날들      노란잠수함   까페타임     지앤지앤      박*숙     혼밥녀    \n",
       "4     유*한     이*인       좋은날들   듀륏cherry    박*대     보석마미      이*영     혼밥녀    \n",
       "..     ...     ...        ...        ...    ...      ...      ...     ...   \n",
       "995    NaN     NaN       최*람        최*호    김*애   jj7577       NaN    권*경    \n",
       "996    NaN     NaN       듀듐칫        한*섭    김*목      박*근       NaN    박*승    \n",
       "997    NaN     NaN  Yoonimom        오*준    황*원      정*공       NaN    배미자    \n",
       "998    NaN     NaN       송*진        유*근    심*준      신*철       NaN    정*미    \n",
       "999    NaN     NaN       송*자        진*현    이*주     산골다래       NaN    박*혁    \n",
       "\n",
       "      code8   code9  \n",
       "0      배*웅    리뷰홀릭   \n",
       "1      이*범   웅장해진다   \n",
       "2    웅장해진다     김*래   \n",
       "3     까페타임     한보리   \n",
       "4    웅컁키쿄쿡     이*현   \n",
       "..      ...     ...  \n",
       "995    최*한     정*희   \n",
       "996    김*태     이*순   \n",
       "997    최*우     김*영   \n",
       "998    김*숙     정*영   \n",
       "999    김*주     오*균   \n",
       "\n",
       "[1000 rows x 10 columns]"
      ]
     },
     "execution_count": 20,
     "metadata": {},
     "output_type": "execute_result"
    }
   ],
   "source": [
    "df"
   ]
  },
  {
   "cell_type": "code",
   "execution_count": 21,
   "metadata": {},
   "outputs": [
    {
     "data": {
      "text/plain": [
       "'튼튼닷컴 밀크씨슬 [6개월분], 1000mg, 1개, 180캡슐 26,900원'"
      ]
     },
     "execution_count": 21,
     "metadata": {},
     "output_type": "execute_result"
    }
   ],
   "source": [
    "name_label.code0"
   ]
  },
  {
   "cell_type": "code",
   "execution_count": 22,
   "metadata": {},
   "outputs": [],
   "source": [
    "code0_user =  df.code0"
   ]
  },
  {
   "cell_type": "code",
   "execution_count": 23,
   "metadata": {},
   "outputs": [
    {
     "data": {
      "text/plain": [
       "0       리베카 \n",
       "1       제주남 \n",
       "2      나비아씨 \n",
       "3       박*하 \n",
       "4       유*한 \n",
       "       ...  \n",
       "995      NaN\n",
       "996      NaN\n",
       "997      NaN\n",
       "998      NaN\n",
       "999      NaN\n",
       "Name: code0, Length: 1000, dtype: object"
      ]
     },
     "execution_count": 23,
     "metadata": {},
     "output_type": "execute_result"
    }
   ],
   "source": [
    "code0_user"
   ]
  },
  {
   "cell_type": "code",
   "execution_count": 24,
   "metadata": {},
   "outputs": [
    {
     "data": {
      "text/plain": [
       "0     리베카 \n",
       "1     제주남 \n",
       "2    나비아씨 \n",
       "3     박*하 \n",
       "4     유*한 \n",
       "Name: code0, dtype: object"
      ]
     },
     "execution_count": 24,
     "metadata": {},
     "output_type": "execute_result"
    }
   ],
   "source": [
    "code0_user.head()"
   ]
  },
  {
   "cell_type": "code",
   "execution_count": 25,
   "metadata": {},
   "outputs": [
    {
     "data": {
      "text/plain": [
       "0       리베카 \n",
       "1       제주남 \n",
       "2      나비아씨 \n",
       "3       박*하 \n",
       "4       유*한 \n",
       "       ...  \n",
       "995      NaN\n",
       "996      NaN\n",
       "997      NaN\n",
       "998      NaN\n",
       "999      NaN\n",
       "Name: code0, Length: 1000, dtype: object"
      ]
     },
     "execution_count": 25,
     "metadata": {},
     "output_type": "execute_result"
    }
   ],
   "source": [
    "df['code0']"
   ]
  },
  {
   "cell_type": "code",
   "execution_count": 33,
   "metadata": {},
   "outputs": [],
   "source": [
    "# 사람리스트 만들기\n",
    "name_list = []\n",
    "for cname in df.columns:\n",
    "    name_list.append(df[cname])\n",
    "\n",
    "    \n",
    "    "
   ]
  },
  {
   "cell_type": "code",
   "execution_count": 48,
   "metadata": {},
   "outputs": [],
   "source": [
    "import numpy as np"
   ]
  },
  {
   "cell_type": "code",
   "execution_count": 49,
   "metadata": {},
   "outputs": [],
   "source": [
    "name_list = np.array(name_list)"
   ]
  },
  {
   "cell_type": "code",
   "execution_count": 50,
   "metadata": {},
   "outputs": [
    {
     "data": {
      "text/plain": [
       "(10, 1000)"
      ]
     },
     "execution_count": 50,
     "metadata": {},
     "output_type": "execute_result"
    }
   ],
   "source": [
    "name_list.shape"
   ]
  },
  {
   "cell_type": "code",
   "execution_count": 51,
   "metadata": {},
   "outputs": [],
   "source": [
    "name_list= name_list.flatten()"
   ]
  },
  {
   "cell_type": "code",
   "execution_count": 54,
   "metadata": {},
   "outputs": [
    {
     "data": {
      "text/plain": [
       "(10000,)"
      ]
     },
     "execution_count": 54,
     "metadata": {},
     "output_type": "execute_result"
    }
   ],
   "source": [
    "name_list.shape"
   ]
  },
  {
   "cell_type": "code",
   "execution_count": 57,
   "metadata": {},
   "outputs": [
    {
     "data": {
      "text/plain": [
       "array(['리베카 ', '제주남 ', '나비아씨 ', '박*하 ', '유*한 ', '정*혜 ', '꼴통2018 ', '박*하 ',\n",
       "       '한*동 ', '김*성 '], dtype=object)"
      ]
     },
     "execution_count": 57,
     "metadata": {},
     "output_type": "execute_result"
    }
   ],
   "source": [
    "name_list[:10]"
   ]
  },
  {
   "cell_type": "code",
   "execution_count": 62,
   "metadata": {},
   "outputs": [],
   "source": [
    "name_list = np.array( list(set(name_list)))   # 사람이름 중복 제거"
   ]
  },
  {
   "cell_type": "code",
   "execution_count": 63,
   "metadata": {},
   "outputs": [
    {
     "data": {
      "text/plain": [
       "(3713,)"
      ]
     },
     "execution_count": 63,
     "metadata": {},
     "output_type": "execute_result"
    }
   ],
   "source": [
    "name_list.shape         #사람이름의 수 확인"
   ]
  },
  {
   "cell_type": "code",
   "execution_count": 64,
   "metadata": {},
   "outputs": [
    {
     "data": {
      "text/plain": [
       "array(['강*진 ', '에스로체 ', '박*재 ', '흥부형 ', '알뜰맘 ', 'c*u ', 'Ych짱이 ', '권*엽 ',\n",
       "       '전*선 ', '전*희 '], dtype='<U21')"
      ]
     },
     "execution_count": 64,
     "metadata": {},
     "output_type": "execute_result"
    }
   ],
   "source": [
    "name_list[:10]"
   ]
  },
  {
   "cell_type": "code",
   "execution_count": 67,
   "metadata": {},
   "outputs": [],
   "source": [
    "data = np.zeros((3713,10))"
   ]
  },
  {
   "cell_type": "code",
   "execution_count": 69,
   "metadata": {},
   "outputs": [],
   "source": [
    "df2 = pd.DataFrame(data)"
   ]
  },
  {
   "cell_type": "code",
   "execution_count": 71,
   "metadata": {},
   "outputs": [],
   "source": [
    "df2.index = name_list"
   ]
  },
  {
   "cell_type": "code",
   "execution_count": 72,
   "metadata": {},
   "outputs": [],
   "source": [
    "df2.columns = a_list"
   ]
  },
  {
   "cell_type": "code",
   "execution_count": 73,
   "metadata": {},
   "outputs": [
    {
     "data": {
      "text/html": [
       "<div>\n",
       "<style scoped>\n",
       "    .dataframe tbody tr th:only-of-type {\n",
       "        vertical-align: middle;\n",
       "    }\n",
       "\n",
       "    .dataframe tbody tr th {\n",
       "        vertical-align: top;\n",
       "    }\n",
       "\n",
       "    .dataframe thead th {\n",
       "        text-align: right;\n",
       "    }\n",
       "</style>\n",
       "<table border=\"1\" class=\"dataframe\">\n",
       "  <thead>\n",
       "    <tr style=\"text-align: right;\">\n",
       "      <th></th>\n",
       "      <th>code0</th>\n",
       "      <th>code1</th>\n",
       "      <th>code2</th>\n",
       "      <th>code3</th>\n",
       "      <th>code4</th>\n",
       "      <th>code5</th>\n",
       "      <th>code6</th>\n",
       "      <th>code7</th>\n",
       "      <th>code8</th>\n",
       "      <th>code9</th>\n",
       "    </tr>\n",
       "  </thead>\n",
       "  <tbody>\n",
       "    <tr>\n",
       "      <td>강*진</td>\n",
       "      <td>0.0</td>\n",
       "      <td>0.0</td>\n",
       "      <td>0.0</td>\n",
       "      <td>0.0</td>\n",
       "      <td>0.0</td>\n",
       "      <td>0.0</td>\n",
       "      <td>0.0</td>\n",
       "      <td>0.0</td>\n",
       "      <td>0.0</td>\n",
       "      <td>0.0</td>\n",
       "    </tr>\n",
       "    <tr>\n",
       "      <td>에스로체</td>\n",
       "      <td>0.0</td>\n",
       "      <td>0.0</td>\n",
       "      <td>0.0</td>\n",
       "      <td>0.0</td>\n",
       "      <td>0.0</td>\n",
       "      <td>0.0</td>\n",
       "      <td>0.0</td>\n",
       "      <td>0.0</td>\n",
       "      <td>0.0</td>\n",
       "      <td>0.0</td>\n",
       "    </tr>\n",
       "    <tr>\n",
       "      <td>박*재</td>\n",
       "      <td>0.0</td>\n",
       "      <td>0.0</td>\n",
       "      <td>0.0</td>\n",
       "      <td>0.0</td>\n",
       "      <td>0.0</td>\n",
       "      <td>0.0</td>\n",
       "      <td>0.0</td>\n",
       "      <td>0.0</td>\n",
       "      <td>0.0</td>\n",
       "      <td>0.0</td>\n",
       "    </tr>\n",
       "    <tr>\n",
       "      <td>흥부형</td>\n",
       "      <td>0.0</td>\n",
       "      <td>0.0</td>\n",
       "      <td>0.0</td>\n",
       "      <td>0.0</td>\n",
       "      <td>0.0</td>\n",
       "      <td>0.0</td>\n",
       "      <td>0.0</td>\n",
       "      <td>0.0</td>\n",
       "      <td>0.0</td>\n",
       "      <td>0.0</td>\n",
       "    </tr>\n",
       "    <tr>\n",
       "      <td>알뜰맘</td>\n",
       "      <td>0.0</td>\n",
       "      <td>0.0</td>\n",
       "      <td>0.0</td>\n",
       "      <td>0.0</td>\n",
       "      <td>0.0</td>\n",
       "      <td>0.0</td>\n",
       "      <td>0.0</td>\n",
       "      <td>0.0</td>\n",
       "      <td>0.0</td>\n",
       "      <td>0.0</td>\n",
       "    </tr>\n",
       "    <tr>\n",
       "      <td>...</td>\n",
       "      <td>...</td>\n",
       "      <td>...</td>\n",
       "      <td>...</td>\n",
       "      <td>...</td>\n",
       "      <td>...</td>\n",
       "      <td>...</td>\n",
       "      <td>...</td>\n",
       "      <td>...</td>\n",
       "      <td>...</td>\n",
       "      <td>...</td>\n",
       "    </tr>\n",
       "    <tr>\n",
       "      <td>50대남자</td>\n",
       "      <td>0.0</td>\n",
       "      <td>0.0</td>\n",
       "      <td>0.0</td>\n",
       "      <td>0.0</td>\n",
       "      <td>0.0</td>\n",
       "      <td>0.0</td>\n",
       "      <td>0.0</td>\n",
       "      <td>0.0</td>\n",
       "      <td>0.0</td>\n",
       "      <td>0.0</td>\n",
       "    </tr>\n",
       "    <tr>\n",
       "      <td>차*연</td>\n",
       "      <td>0.0</td>\n",
       "      <td>0.0</td>\n",
       "      <td>0.0</td>\n",
       "      <td>0.0</td>\n",
       "      <td>0.0</td>\n",
       "      <td>0.0</td>\n",
       "      <td>0.0</td>\n",
       "      <td>0.0</td>\n",
       "      <td>0.0</td>\n",
       "      <td>0.0</td>\n",
       "    </tr>\n",
       "    <tr>\n",
       "      <td>권*형</td>\n",
       "      <td>0.0</td>\n",
       "      <td>0.0</td>\n",
       "      <td>0.0</td>\n",
       "      <td>0.0</td>\n",
       "      <td>0.0</td>\n",
       "      <td>0.0</td>\n",
       "      <td>0.0</td>\n",
       "      <td>0.0</td>\n",
       "      <td>0.0</td>\n",
       "      <td>0.0</td>\n",
       "    </tr>\n",
       "    <tr>\n",
       "      <td>차차여름</td>\n",
       "      <td>0.0</td>\n",
       "      <td>0.0</td>\n",
       "      <td>0.0</td>\n",
       "      <td>0.0</td>\n",
       "      <td>0.0</td>\n",
       "      <td>0.0</td>\n",
       "      <td>0.0</td>\n",
       "      <td>0.0</td>\n",
       "      <td>0.0</td>\n",
       "      <td>0.0</td>\n",
       "    </tr>\n",
       "    <tr>\n",
       "      <td>조*민</td>\n",
       "      <td>0.0</td>\n",
       "      <td>0.0</td>\n",
       "      <td>0.0</td>\n",
       "      <td>0.0</td>\n",
       "      <td>0.0</td>\n",
       "      <td>0.0</td>\n",
       "      <td>0.0</td>\n",
       "      <td>0.0</td>\n",
       "      <td>0.0</td>\n",
       "      <td>0.0</td>\n",
       "    </tr>\n",
       "  </tbody>\n",
       "</table>\n",
       "<p>3713 rows × 10 columns</p>\n",
       "</div>"
      ],
      "text/plain": [
       "        code0  code1  code2  code3  code4  code5  code6  code7  code8  code9\n",
       "강*진       0.0    0.0    0.0    0.0    0.0    0.0    0.0    0.0    0.0    0.0\n",
       "에스로체      0.0    0.0    0.0    0.0    0.0    0.0    0.0    0.0    0.0    0.0\n",
       "박*재       0.0    0.0    0.0    0.0    0.0    0.0    0.0    0.0    0.0    0.0\n",
       "흥부형       0.0    0.0    0.0    0.0    0.0    0.0    0.0    0.0    0.0    0.0\n",
       "알뜰맘       0.0    0.0    0.0    0.0    0.0    0.0    0.0    0.0    0.0    0.0\n",
       "...       ...    ...    ...    ...    ...    ...    ...    ...    ...    ...\n",
       "50대남자     0.0    0.0    0.0    0.0    0.0    0.0    0.0    0.0    0.0    0.0\n",
       "차*연       0.0    0.0    0.0    0.0    0.0    0.0    0.0    0.0    0.0    0.0\n",
       "권*형       0.0    0.0    0.0    0.0    0.0    0.0    0.0    0.0    0.0    0.0\n",
       "차차여름      0.0    0.0    0.0    0.0    0.0    0.0    0.0    0.0    0.0    0.0\n",
       "조*민       0.0    0.0    0.0    0.0    0.0    0.0    0.0    0.0    0.0    0.0\n",
       "\n",
       "[3713 rows x 10 columns]"
      ]
     },
     "execution_count": 73,
     "metadata": {},
     "output_type": "execute_result"
    }
   ],
   "source": [
    "df2"
   ]
  },
  {
   "cell_type": "code",
   "execution_count": 77,
   "metadata": {
    "scrolled": true
   },
   "outputs": [
    {
     "data": {
      "text/html": [
       "<div>\n",
       "<style scoped>\n",
       "    .dataframe tbody tr th:only-of-type {\n",
       "        vertical-align: middle;\n",
       "    }\n",
       "\n",
       "    .dataframe tbody tr th {\n",
       "        vertical-align: top;\n",
       "    }\n",
       "\n",
       "    .dataframe thead th {\n",
       "        text-align: right;\n",
       "    }\n",
       "</style>\n",
       "<table border=\"1\" class=\"dataframe\">\n",
       "  <thead>\n",
       "    <tr style=\"text-align: right;\">\n",
       "      <th></th>\n",
       "      <th>code0</th>\n",
       "      <th>code1</th>\n",
       "      <th>code2</th>\n",
       "      <th>code3</th>\n",
       "      <th>code4</th>\n",
       "      <th>code5</th>\n",
       "      <th>code6</th>\n",
       "      <th>code7</th>\n",
       "      <th>code8</th>\n",
       "      <th>code9</th>\n",
       "    </tr>\n",
       "  </thead>\n",
       "  <tbody>\n",
       "    <tr>\n",
       "      <td>0</td>\n",
       "      <td>리베카</td>\n",
       "      <td>겨울온기</td>\n",
       "      <td>서*아</td>\n",
       "      <td>홍*환</td>\n",
       "      <td>쿸쿸쿸</td>\n",
       "      <td>실천의힘</td>\n",
       "      <td>UNIUNI</td>\n",
       "      <td>칠치링</td>\n",
       "      <td>배*웅</td>\n",
       "      <td>리뷰홀릭</td>\n",
       "    </tr>\n",
       "    <tr>\n",
       "      <td>1</td>\n",
       "      <td>제주남</td>\n",
       "      <td>하*희</td>\n",
       "      <td>집노예도비</td>\n",
       "      <td>다없대</td>\n",
       "      <td>전천도</td>\n",
       "      <td>엄*주</td>\n",
       "      <td>또또뿌니율</td>\n",
       "      <td>또또뿌니율</td>\n",
       "      <td>이*범</td>\n",
       "      <td>웅장해진다</td>\n",
       "    </tr>\n",
       "    <tr>\n",
       "      <td>2</td>\n",
       "      <td>나비아씨</td>\n",
       "      <td>솔직냥집사</td>\n",
       "      <td>또또뿌니율</td>\n",
       "      <td>esmooom</td>\n",
       "      <td>오*진</td>\n",
       "      <td>웅장해진다</td>\n",
       "      <td>이이이삼</td>\n",
       "      <td>오*근</td>\n",
       "      <td>웅장해진다</td>\n",
       "      <td>김*래</td>\n",
       "    </tr>\n",
       "    <tr>\n",
       "      <td>3</td>\n",
       "      <td>박*하</td>\n",
       "      <td>윤*우</td>\n",
       "      <td>좋은날들</td>\n",
       "      <td>노란잠수함</td>\n",
       "      <td>까페타임</td>\n",
       "      <td>지앤지앤</td>\n",
       "      <td>박*숙</td>\n",
       "      <td>혼밥녀</td>\n",
       "      <td>까페타임</td>\n",
       "      <td>한보리</td>\n",
       "    </tr>\n",
       "    <tr>\n",
       "      <td>4</td>\n",
       "      <td>유*한</td>\n",
       "      <td>이*인</td>\n",
       "      <td>좋은날들</td>\n",
       "      <td>듀륏cherry</td>\n",
       "      <td>박*대</td>\n",
       "      <td>보석마미</td>\n",
       "      <td>이*영</td>\n",
       "      <td>혼밥녀</td>\n",
       "      <td>웅컁키쿄쿡</td>\n",
       "      <td>이*현</td>\n",
       "    </tr>\n",
       "    <tr>\n",
       "      <td>...</td>\n",
       "      <td>...</td>\n",
       "      <td>...</td>\n",
       "      <td>...</td>\n",
       "      <td>...</td>\n",
       "      <td>...</td>\n",
       "      <td>...</td>\n",
       "      <td>...</td>\n",
       "      <td>...</td>\n",
       "      <td>...</td>\n",
       "      <td>...</td>\n",
       "    </tr>\n",
       "    <tr>\n",
       "      <td>995</td>\n",
       "      <td>NaN</td>\n",
       "      <td>NaN</td>\n",
       "      <td>최*람</td>\n",
       "      <td>최*호</td>\n",
       "      <td>김*애</td>\n",
       "      <td>jj7577</td>\n",
       "      <td>NaN</td>\n",
       "      <td>권*경</td>\n",
       "      <td>최*한</td>\n",
       "      <td>정*희</td>\n",
       "    </tr>\n",
       "    <tr>\n",
       "      <td>996</td>\n",
       "      <td>NaN</td>\n",
       "      <td>NaN</td>\n",
       "      <td>듀듐칫</td>\n",
       "      <td>한*섭</td>\n",
       "      <td>김*목</td>\n",
       "      <td>박*근</td>\n",
       "      <td>NaN</td>\n",
       "      <td>박*승</td>\n",
       "      <td>김*태</td>\n",
       "      <td>이*순</td>\n",
       "    </tr>\n",
       "    <tr>\n",
       "      <td>997</td>\n",
       "      <td>NaN</td>\n",
       "      <td>NaN</td>\n",
       "      <td>Yoonimom</td>\n",
       "      <td>오*준</td>\n",
       "      <td>황*원</td>\n",
       "      <td>정*공</td>\n",
       "      <td>NaN</td>\n",
       "      <td>배미자</td>\n",
       "      <td>최*우</td>\n",
       "      <td>김*영</td>\n",
       "    </tr>\n",
       "    <tr>\n",
       "      <td>998</td>\n",
       "      <td>NaN</td>\n",
       "      <td>NaN</td>\n",
       "      <td>송*진</td>\n",
       "      <td>유*근</td>\n",
       "      <td>심*준</td>\n",
       "      <td>신*철</td>\n",
       "      <td>NaN</td>\n",
       "      <td>정*미</td>\n",
       "      <td>김*숙</td>\n",
       "      <td>정*영</td>\n",
       "    </tr>\n",
       "    <tr>\n",
       "      <td>999</td>\n",
       "      <td>NaN</td>\n",
       "      <td>NaN</td>\n",
       "      <td>송*자</td>\n",
       "      <td>진*현</td>\n",
       "      <td>이*주</td>\n",
       "      <td>산골다래</td>\n",
       "      <td>NaN</td>\n",
       "      <td>박*혁</td>\n",
       "      <td>김*주</td>\n",
       "      <td>오*균</td>\n",
       "    </tr>\n",
       "  </tbody>\n",
       "</table>\n",
       "<p>1000 rows × 10 columns</p>\n",
       "</div>"
      ],
      "text/plain": [
       "     code0   code1      code2      code3  code4    code5    code6   code7  \\\n",
       "0     리베카    겨울온기        서*아        홍*환    쿸쿸쿸     실천의힘   UNIUNI     칠치링    \n",
       "1     제주남     하*희      집노예도비        다없대    전천도      엄*주    또또뿌니율   또또뿌니율    \n",
       "2    나비아씨   솔직냥집사      또또뿌니율    esmooom    오*진    웅장해진다     이이이삼     오*근    \n",
       "3     박*하     윤*우       좋은날들      노란잠수함   까페타임     지앤지앤      박*숙     혼밥녀    \n",
       "4     유*한     이*인       좋은날들   듀륏cherry    박*대     보석마미      이*영     혼밥녀    \n",
       "..     ...     ...        ...        ...    ...      ...      ...     ...   \n",
       "995    NaN     NaN       최*람        최*호    김*애   jj7577       NaN    권*경    \n",
       "996    NaN     NaN       듀듐칫        한*섭    김*목      박*근       NaN    박*승    \n",
       "997    NaN     NaN  Yoonimom        오*준    황*원      정*공       NaN    배미자    \n",
       "998    NaN     NaN       송*진        유*근    심*준      신*철       NaN    정*미    \n",
       "999    NaN     NaN       송*자        진*현    이*주     산골다래       NaN    박*혁    \n",
       "\n",
       "      code8   code9  \n",
       "0      배*웅    리뷰홀릭   \n",
       "1      이*범   웅장해진다   \n",
       "2    웅장해진다     김*래   \n",
       "3     까페타임     한보리   \n",
       "4    웅컁키쿄쿡     이*현   \n",
       "..      ...     ...  \n",
       "995    최*한     정*희   \n",
       "996    김*태     이*순   \n",
       "997    최*우     김*영   \n",
       "998    김*숙     정*영   \n",
       "999    김*주     오*균   \n",
       "\n",
       "[1000 rows x 10 columns]"
      ]
     },
     "execution_count": 77,
     "metadata": {},
     "output_type": "execute_result"
    }
   ],
   "source": [
    "df"
   ]
  },
  {
   "cell_type": "code",
   "execution_count": 101,
   "metadata": {},
   "outputs": [],
   "source": [
    "# 사용자명을 매개변수로 전달받아 구입한 상품명들을 리스트로 반환하는 함수 정의\n",
    "def getBuy(username):\n",
    "    buy_list = []\n",
    "    for col in df.columns:\n",
    "        if username in str(df[col]):\n",
    "            buy_list.append(col)\n",
    "    return list(set(buy_list))"
   ]
  },
  {
   "cell_type": "code",
   "execution_count": 102,
   "metadata": {},
   "outputs": [],
   "source": [
    "test = getBuy('최*한')"
   ]
  },
  {
   "cell_type": "code",
   "execution_count": 103,
   "metadata": {},
   "outputs": [
    {
     "data": {
      "text/plain": [
       "['code8']"
      ]
     },
     "execution_count": 103,
     "metadata": {},
     "output_type": "execute_result"
    }
   ],
   "source": [
    "test"
   ]
  },
  {
   "cell_type": "code",
   "execution_count": 104,
   "metadata": {},
   "outputs": [],
   "source": [
    "# df2 데이터 프레임\n",
    "# index 고객명\n",
    "# colum 상품명\n",
    "# 구입여부 0,1로 설정"
   ]
  },
  {
   "cell_type": "code",
   "execution_count": 105,
   "metadata": {},
   "outputs": [
    {
     "data": {
      "text/html": [
       "<div>\n",
       "<style scoped>\n",
       "    .dataframe tbody tr th:only-of-type {\n",
       "        vertical-align: middle;\n",
       "    }\n",
       "\n",
       "    .dataframe tbody tr th {\n",
       "        vertical-align: top;\n",
       "    }\n",
       "\n",
       "    .dataframe thead th {\n",
       "        text-align: right;\n",
       "    }\n",
       "</style>\n",
       "<table border=\"1\" class=\"dataframe\">\n",
       "  <thead>\n",
       "    <tr style=\"text-align: right;\">\n",
       "      <th></th>\n",
       "      <th>code0</th>\n",
       "      <th>code1</th>\n",
       "      <th>code2</th>\n",
       "      <th>code3</th>\n",
       "      <th>code4</th>\n",
       "      <th>code5</th>\n",
       "      <th>code6</th>\n",
       "      <th>code7</th>\n",
       "      <th>code8</th>\n",
       "      <th>code9</th>\n",
       "    </tr>\n",
       "  </thead>\n",
       "  <tbody>\n",
       "    <tr>\n",
       "      <td>강*진</td>\n",
       "      <td>0.0</td>\n",
       "      <td>0.0</td>\n",
       "      <td>0.0</td>\n",
       "      <td>0.0</td>\n",
       "      <td>0.0</td>\n",
       "      <td>0.0</td>\n",
       "      <td>0.0</td>\n",
       "      <td>0.0</td>\n",
       "      <td>0.0</td>\n",
       "      <td>0.0</td>\n",
       "    </tr>\n",
       "    <tr>\n",
       "      <td>에스로체</td>\n",
       "      <td>0.0</td>\n",
       "      <td>0.0</td>\n",
       "      <td>0.0</td>\n",
       "      <td>0.0</td>\n",
       "      <td>0.0</td>\n",
       "      <td>0.0</td>\n",
       "      <td>0.0</td>\n",
       "      <td>0.0</td>\n",
       "      <td>0.0</td>\n",
       "      <td>0.0</td>\n",
       "    </tr>\n",
       "    <tr>\n",
       "      <td>박*재</td>\n",
       "      <td>0.0</td>\n",
       "      <td>0.0</td>\n",
       "      <td>0.0</td>\n",
       "      <td>0.0</td>\n",
       "      <td>0.0</td>\n",
       "      <td>0.0</td>\n",
       "      <td>0.0</td>\n",
       "      <td>0.0</td>\n",
       "      <td>0.0</td>\n",
       "      <td>0.0</td>\n",
       "    </tr>\n",
       "    <tr>\n",
       "      <td>흥부형</td>\n",
       "      <td>0.0</td>\n",
       "      <td>0.0</td>\n",
       "      <td>0.0</td>\n",
       "      <td>0.0</td>\n",
       "      <td>0.0</td>\n",
       "      <td>0.0</td>\n",
       "      <td>0.0</td>\n",
       "      <td>0.0</td>\n",
       "      <td>0.0</td>\n",
       "      <td>0.0</td>\n",
       "    </tr>\n",
       "    <tr>\n",
       "      <td>알뜰맘</td>\n",
       "      <td>0.0</td>\n",
       "      <td>0.0</td>\n",
       "      <td>0.0</td>\n",
       "      <td>0.0</td>\n",
       "      <td>0.0</td>\n",
       "      <td>0.0</td>\n",
       "      <td>0.0</td>\n",
       "      <td>0.0</td>\n",
       "      <td>0.0</td>\n",
       "      <td>0.0</td>\n",
       "    </tr>\n",
       "    <tr>\n",
       "      <td>...</td>\n",
       "      <td>...</td>\n",
       "      <td>...</td>\n",
       "      <td>...</td>\n",
       "      <td>...</td>\n",
       "      <td>...</td>\n",
       "      <td>...</td>\n",
       "      <td>...</td>\n",
       "      <td>...</td>\n",
       "      <td>...</td>\n",
       "      <td>...</td>\n",
       "    </tr>\n",
       "    <tr>\n",
       "      <td>50대남자</td>\n",
       "      <td>0.0</td>\n",
       "      <td>0.0</td>\n",
       "      <td>0.0</td>\n",
       "      <td>0.0</td>\n",
       "      <td>0.0</td>\n",
       "      <td>0.0</td>\n",
       "      <td>0.0</td>\n",
       "      <td>0.0</td>\n",
       "      <td>0.0</td>\n",
       "      <td>0.0</td>\n",
       "    </tr>\n",
       "    <tr>\n",
       "      <td>차*연</td>\n",
       "      <td>0.0</td>\n",
       "      <td>0.0</td>\n",
       "      <td>0.0</td>\n",
       "      <td>0.0</td>\n",
       "      <td>0.0</td>\n",
       "      <td>0.0</td>\n",
       "      <td>0.0</td>\n",
       "      <td>0.0</td>\n",
       "      <td>0.0</td>\n",
       "      <td>0.0</td>\n",
       "    </tr>\n",
       "    <tr>\n",
       "      <td>권*형</td>\n",
       "      <td>0.0</td>\n",
       "      <td>0.0</td>\n",
       "      <td>0.0</td>\n",
       "      <td>0.0</td>\n",
       "      <td>0.0</td>\n",
       "      <td>0.0</td>\n",
       "      <td>0.0</td>\n",
       "      <td>0.0</td>\n",
       "      <td>0.0</td>\n",
       "      <td>0.0</td>\n",
       "    </tr>\n",
       "    <tr>\n",
       "      <td>차차여름</td>\n",
       "      <td>0.0</td>\n",
       "      <td>0.0</td>\n",
       "      <td>0.0</td>\n",
       "      <td>0.0</td>\n",
       "      <td>0.0</td>\n",
       "      <td>0.0</td>\n",
       "      <td>0.0</td>\n",
       "      <td>0.0</td>\n",
       "      <td>0.0</td>\n",
       "      <td>0.0</td>\n",
       "    </tr>\n",
       "    <tr>\n",
       "      <td>조*민</td>\n",
       "      <td>0.0</td>\n",
       "      <td>0.0</td>\n",
       "      <td>0.0</td>\n",
       "      <td>0.0</td>\n",
       "      <td>0.0</td>\n",
       "      <td>0.0</td>\n",
       "      <td>0.0</td>\n",
       "      <td>0.0</td>\n",
       "      <td>0.0</td>\n",
       "      <td>0.0</td>\n",
       "    </tr>\n",
       "  </tbody>\n",
       "</table>\n",
       "<p>3713 rows × 10 columns</p>\n",
       "</div>"
      ],
      "text/plain": [
       "        code0  code1  code2  code3  code4  code5  code6  code7  code8  code9\n",
       "강*진       0.0    0.0    0.0    0.0    0.0    0.0    0.0    0.0    0.0    0.0\n",
       "에스로체      0.0    0.0    0.0    0.0    0.0    0.0    0.0    0.0    0.0    0.0\n",
       "박*재       0.0    0.0    0.0    0.0    0.0    0.0    0.0    0.0    0.0    0.0\n",
       "흥부형       0.0    0.0    0.0    0.0    0.0    0.0    0.0    0.0    0.0    0.0\n",
       "알뜰맘       0.0    0.0    0.0    0.0    0.0    0.0    0.0    0.0    0.0    0.0\n",
       "...       ...    ...    ...    ...    ...    ...    ...    ...    ...    ...\n",
       "50대남자     0.0    0.0    0.0    0.0    0.0    0.0    0.0    0.0    0.0    0.0\n",
       "차*연       0.0    0.0    0.0    0.0    0.0    0.0    0.0    0.0    0.0    0.0\n",
       "권*형       0.0    0.0    0.0    0.0    0.0    0.0    0.0    0.0    0.0    0.0\n",
       "차차여름      0.0    0.0    0.0    0.0    0.0    0.0    0.0    0.0    0.0    0.0\n",
       "조*민       0.0    0.0    0.0    0.0    0.0    0.0    0.0    0.0    0.0    0.0\n",
       "\n",
       "[3713 rows x 10 columns]"
      ]
     },
     "execution_count": 105,
     "metadata": {},
     "output_type": "execute_result"
    }
   ],
   "source": [
    "df2"
   ]
  },
  {
   "cell_type": "code",
   "execution_count": null,
   "metadata": {},
   "outputs": [],
   "source": []
  }
 ],
 "metadata": {
  "kernelspec": {
   "display_name": "Python 3",
   "language": "python",
   "name": "python3"
  },
  "language_info": {
   "codemirror_mode": {
    "name": "ipython",
    "version": 3
   },
   "file_extension": ".py",
   "mimetype": "text/x-python",
   "name": "python",
   "nbconvert_exporter": "python",
   "pygments_lexer": "ipython3",
   "version": "3.7.4"
  }
 },
 "nbformat": 4,
 "nbformat_minor": 2
}
